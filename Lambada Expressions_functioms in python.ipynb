{
 "cells": [
  {
   "cell_type": "markdown",
   "id": "cc4d9def",
   "metadata": {},
   "source": [
    "# Lambda Expressions_functioms in python#"
   ]
  },
  {
   "cell_type": "markdown",
   "id": "47b346b9",
   "metadata": {},
   "source": [
    "#Lambda Expressions#\n",
    "*This function can have any number of arguments but only one expression, which is evaluvated and return.\n",
    "*You need to keep in your knowledge that lambada functions are syntactically restricted to a single expression.\n",
    "*It is more efficient than function when function task is small.\n",
    "*Do not use lambada functions when task is complex.\n",
    "*It works best when you have to call function millions of times but the execution task is simple."
   ]
  },
  {
   "cell_type": "code",
   "execution_count": 1,
   "id": "6e46029d",
   "metadata": {},
   "outputs": [],
   "source": [
    "#user Defined function\n",
    "def add_20(a):\n",
    "    return a+20"
   ]
  },
  {
   "cell_type": "code",
   "execution_count": 8,
   "id": "c2fad9a5",
   "metadata": {},
   "outputs": [
    {
     "data": {
      "text/plain": [
       "25"
      ]
     },
     "execution_count": 8,
     "metadata": {},
     "output_type": "execute_result"
    }
   ],
   "source": [
    "add_20(5)"
   ]
  },
  {
   "cell_type": "code",
   "execution_count": 11,
   "id": "c244f765",
   "metadata": {},
   "outputs": [
    {
     "name": "stdout",
     "output_type": "stream",
     "text": [
      "With argument value 5: 25\n",
      "With argument value 10: 30\n"
     ]
    }
   ],
   "source": [
    "#Lambda function\n",
    "var = lambda a: a+20\n",
    "\n",
    "print(\"With argument value 5:\", var(5))\n",
    "print(\"With argument value 10:\", var(10))"
   ]
  },
  {
   "cell_type": "code",
   "execution_count": 12,
   "id": "a11ae5f1",
   "metadata": {},
   "outputs": [
    {
     "name": "stdout",
     "output_type": "stream",
     "text": [
      "The value of 5+3: 8\n",
      "The value of 7+2: 9\n"
     ]
    }
   ],
   "source": [
    "#lambda function with two arguments.\n",
    "var = lambda a, b: a+b\n",
    "\n",
    "print(\"The value of 5+3:\", var(5,3))\n",
    "print(\"The value of 7+2:\", var(7,2))"
   ]
  },
  {
   "cell_type": "markdown",
   "id": "09865fea",
   "metadata": {},
   "source": [
    "#Filter Function#\n",
    "*The filter() function in Python takes in a function and a list as arguments. To filter out all the element of sequences, for whcih the fucntion returns True."
   ]
  },
  {
   "cell_type": "code",
   "execution_count": 13,
   "id": "00a66311",
   "metadata": {},
   "outputs": [],
   "source": [
    "#def normal_even(x):\n",
    "\n",
    "    #if x%2 != 0:\n",
    "        #return True\n",
    "    #else:\n",
    "        #return False"
   ]
  },
  {
   "cell_type": "code",
   "execution_count": 15,
   "id": "5dd48306",
   "metadata": {},
   "outputs": [
    {
     "name": "stdout",
     "output_type": "stream",
     "text": [
      "Odd numbers are: [5, 17, 43, 237, 133, 21]\n"
     ]
    }
   ],
   "source": [
    "original_list = [5, 17, 32, 43, 12, 62, 237, 133, 78, 21]\n",
    "\n",
    "#Filter the odd numbers from the list\n",
    "filtered_list = list(filter(lambda x: (x%2 !=0), original_list))\n",
    "\n",
    "print(\"Odd numbers are:\", filtered_list)"
   ]
  },
  {
   "cell_type": "code",
   "execution_count": 20,
   "id": "27618cba",
   "metadata": {},
   "outputs": [
    {
     "name": "stdout",
     "output_type": "stream",
     "text": [
      "Multiples of 5 from the list are: [5, 15, 20, 65, 235, 75]\n"
     ]
    }
   ],
   "source": [
    "original_list = [5, 11, 15, 43, 20, 65, 235, 133, 75, 21] \n",
    "\n",
    "#filter multiple of 5 from the list\n",
    "filtered_list = list(filter(lambda x:(x%5 == 0), original_list))\n",
    "\n",
    "print(\"Multiples of 5 from the list are:\", filtered_list)"
   ]
  },
  {
   "cell_type": "code",
   "execution_count": 22,
   "id": "b758c837",
   "metadata": {},
   "outputs": [
    {
     "name": "stdout",
     "output_type": "stream",
     "text": [
      "Words starting with S are: ['Standard', 'Super', 'Science']\n"
     ]
    }
   ],
   "source": [
    "original_list = ['Analytics','Standard','Super','Data','Science','Vidhya'] \n",
    "\n",
    "#filter the word starting with \"S\"\n",
    "filtered_list = list(filter(lambda x: (x[0] == \"S\"), original_list))\n",
    "\n",
    "print(\"Words starting with S are:\", filtered_list)"
   ]
  },
  {
   "cell_type": "markdown",
   "id": "feef9108",
   "metadata": {},
   "source": [
    "#map function#\n",
    "*The map function in python takes in a fucntion and a list as arguments. The function is called with a lambda function and a list and new list is returned which contains all the lambda modified items returned by that function for each item."
   ]
  },
  {
   "cell_type": "code",
   "execution_count": 23,
   "id": "f521d58d",
   "metadata": {},
   "outputs": [
    {
     "name": "stdout",
     "output_type": "stream",
     "text": [
      "Mappled_List: [2, 4, 6, 8, 10, 12, 14, 16, 18, 20]\n"
     ]
    }
   ],
   "source": [
    "original_list = [1, 2, 3, 4, 5, 6, 7, 8, 9, 10]\n",
    "\n",
    "#double each number in the original list\n",
    "mapped_list = list(map(lambda x: (x*2), original_list))\n",
    "\n",
    "print(\"Mappled_List:\", mapped_list)"
   ]
  },
  {
   "cell_type": "code",
   "execution_count": 25,
   "id": "383230db",
   "metadata": {},
   "outputs": [
    {
     "name": "stdout",
     "output_type": "stream",
     "text": [
      "New Mapped List: ['Analytics', 'Vidhya', 'King', 'South', 'East']\n"
     ]
    }
   ],
   "source": [
    "original_list = ['analytics','vidhya','king','south','east']\n",
    "# capatilize first letter of each  word in the original list\n",
    "mapped_list = list(map(lambda x: x.capitalize(), original_list))\n",
    "\n",
    "print(\"New Mapped List:\", mapped_list)"
   ]
  },
  {
   "cell_type": "code",
   "execution_count": 26,
   "id": "1bd6030e",
   "metadata": {},
   "outputs": [
    {
     "name": "stdout",
     "output_type": "stream",
     "text": [
      "New Mapped List: ['Analytics', 'Vidhya', 'King', 'South', 'East']\n"
     ]
    }
   ],
   "source": [
    "original_list = ['analytics','vidhya','king','south','east']\n",
    "# capatilize first letter of each  word in the original list\n",
    "mapped_list = list(map(lambda x: x[0].upper()+x[1:], original_list))\n",
    "\n",
    "print(\"New Mapped List:\", mapped_list)"
   ]
  },
  {
   "cell_type": "markdown",
   "id": "11ccbe33",
   "metadata": {},
   "source": [
    "#Reduced Functions#\n",
    "*The reduce() function in python takes in a function and a list as arguments. The function is called with lambda function and a list and a new reduced result is returned. This performs a repetitive operation over the pair of the list.\n",
    "*The reduce function will always take two parameters."
   ]
  },
  {
   "cell_type": "code",
   "execution_count": 29,
   "id": "a625eef7",
   "metadata": {},
   "outputs": [
    {
     "name": "stdout",
     "output_type": "stream",
     "text": [
      "Sum of numbers in the original list is: 45\n"
     ]
    }
   ],
   "source": [
    "from functools import reduce\n",
    "\n",
    "original_list = [1, 2, 3, 4, 5, 6, 7, 8, 9]\n",
    "\n",
    "# use reduce function to find the sum of numbers in the original list\n",
    "sum_of_list = reduce((lambda x, y: x+y), original_list)\n",
    "print(\"Sum of numbers in the original list is:\", sum_of_list)"
   ]
  },
  {
   "cell_type": "code",
   "execution_count": 30,
   "id": "f3f1f62b",
   "metadata": {},
   "outputs": [
    {
     "name": "stdout",
     "output_type": "stream",
     "text": [
      "Largest number in the original list is: 424\n"
     ]
    }
   ],
   "source": [
    "original_list = [110, 53, 3, 424, 255, 16, 42, 256]\n",
    "# use reduce function to find the largest number in the original list\n",
    "largest_number = reduce((lambda x,y: x if(x>y) else y), original_list)\n",
    "print(\"Largest number in the original list is:\", largest_number)"
   ]
  },
  {
   "cell_type": "code",
   "execution_count": null,
   "id": "81471e11",
   "metadata": {},
   "outputs": [],
   "source": []
  }
 ],
 "metadata": {
  "kernelspec": {
   "display_name": "Python 3",
   "language": "python",
   "name": "python3"
  },
  "language_info": {
   "codemirror_mode": {
    "name": "ipython",
    "version": 3
   },
   "file_extension": ".py",
   "mimetype": "text/x-python",
   "name": "python",
   "nbconvert_exporter": "python",
   "pygments_lexer": "ipython3",
   "version": "3.8.8"
  }
 },
 "nbformat": 4,
 "nbformat_minor": 5
}
